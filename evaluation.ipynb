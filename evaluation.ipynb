{
 "cells": [
  {
   "cell_type": "code",
   "execution_count": 1,
   "id": "4e4f2458",
   "metadata": {},
   "outputs": [
    {
     "data": {
      "application/vnd.microsoft.datawrangler.viewer.v0+json": {
       "columns": [
        {
         "name": "index",
         "rawType": "int64",
         "type": "integer"
        },
        {
         "name": "query",
         "rawType": "object",
         "type": "string"
        },
        {
         "name": "label",
         "rawType": "float64",
         "type": "float"
        },
        {
         "name": "directory",
         "rawType": "object",
         "type": "unknown"
        }
       ],
       "conversionMethod": "pd.DataFrame",
       "ref": "4dd59d07-fbc1-45d1-86d9-e695387821e0",
       "rows": [
        [
         "0",
         "student life memes",
         "2.0",
         "test_images/meme_submissions_1490490.png"
        ],
        [
         "1",
         "final exam memes",
         "2.0",
         "test_images/sad-baby_92.png"
        ],
        [
         "2",
         "data science memes",
         "2.0",
         "test_images/John_Daly_and_Tiger_Woods_1.png"
        ],
        [
         "3",
         "machine learning memes",
         "1.0",
         "test_images/batman-and-superman_20.png"
        ],
        [
         "4",
         "math major memes",
         "2.0",
         "test_images/big-book-small-book_21.png"
        ],
        [
         "5",
         "philosophy class memes",
         "2.0",
         "test_images/meme_submissions_1478811.png"
        ],
        [
         "6",
         "dorm room cooking memes",
         "2.0",
         "test_images/disaster-girl_27.png"
        ],
        [
         "7",
         "lecture hall memes",
         "2.0",
         "test_images/spongebob-fire_84.png"
        ],
        [
         "8",
         "internship search memes",
         "2.0",
         "test_images/yall-got-any-more-of-that_15.png"
        ],
        [
         "9",
         "job application memes",
         "2.0",
         "test_images/meme_submissions_1283289.png"
        ],
        [
         "10",
         "remote work memes",
         "2.0",
         "test_images/pippin-second-breakfast_18.png"
        ],
        [
         "11",
         "AI revolution memes",
         "2.0",
         "test_images/meme_submissions_1408528.png"
        ],
        [
         "12",
         "coding bug memes",
         "2.0",
         "test_images/Computer_Guy_5.png"
        ],
        [
         "13",
         "stack overflow memes",
         "1.0",
         "test_images/meme_submissions_1456162.png"
        ],
        [
         "14",
         "coffee vs tea memes",
         "2.0",
         "test_images/Friends_Joey_teached_french_3.png"
        ],
        [
         "15",
         "group project memes",
         "2.0",
         "test_images/meme_submissions_66415.png"
        ],
        [
         "16",
         "procrastination with YouTube memes",
         "2.0",
         "test_images/meme_submissions_1351602.png"
        ],
        [
         "17",
         "college tuition memes",
         "2.0",
         "test_images/meme_submissions_1229209.png"
        ],
        [
         "18",
         "flatmate cleaning schedule memes",
         "1.0",
         "test_images/capitalist-and-communist_6.png"
        ],
        [
         "19",
         "Linux vs Windows memes",
         "2.0",
         "test_images/meme_submissions_1458166.png"
        ],
        [
         "20",
         "Git commit struggles memes",
         "2.0",
         "test_images/scary-harry_19.png"
        ],
        [
         "21",
         "Zoom call fails memes",
         "1.0",
         "test_images/meme_submissions_1196892.png"
        ],
        [
         "22",
         "freshman orientation memes",
         "2.0",
         "test_images/sponge-finna-commit-muder_105.png"
        ],
        [
         "23",
         "exam cramming memes",
         "2.0",
         "test_images/meme_submissions_70099.png"
        ],
        [
         "24",
         "public speaking anxiety memes",
         "2.0",
         "test_images/blank-blue-background_76.png"
        ],
        [
         "25",
         "PowerPoint presentation memes",
         "2.0",
         "test_images/kevin-hart_66.png"
        ],
        [
         "26",
         "printer jam memes",
         "2.0",
         "test_images/pennywise-in-sewer_34.png"
        ],
        [
         "27",
         "student loan memes",
         "2.0",
         "test_images/meme_submissions_57822.png"
        ],
        [
         "28",
         "deadline panic memes",
         "2.0",
         "test_images/meme_submissions_1287988.png"
        ],
        [
         "29",
         "brainstorming session memes",
         "2.0",
         "test_images/meme_submissions_1383623.png"
        ],
        [
         "30",
         "Google Docs chaos memes",
         "2.0",
         "test_images/meme_submissions_1340586.png"
        ],
        [
         "31",
         "thesis writing memes",
         "2.0",
         "test_images/computer-nerd-167.png"
        ],
        [
         "32",
         "scheduling conflict memes",
         "2.0",
         "test_images/scumbag-boss_44.png"
        ],
        [
         "33",
         "academic advisor memes",
         "1.0",
         "test_images/success-kid_34.png"
        ],
        [
         "34",
         "unread emails memes",
         "2.0",
         "test_images/meme_submissions_1432174.png"
        ],
        [
         "35",
         "conference call memes",
         "1.0",
         "test_images/bonjour_57.png"
        ],
        [
         "36",
         "tech support frustration memes",
         "1.0",
         "test_images/meme_submissions_64921.png"
        ],
        [
         "37",
         "computer lab late night memes",
         "1.0",
         "test_images/metronome_35.png"
        ],
        [
         "38",
         "whiteboard brainstorming memes",
         "1.0",
         "test_images/Squidward_8.png"
        ],
        [
         "39",
         "data visualization memes",
         "2.0",
         "test_images/lisa-simpsons-presentation_33.png"
        ],
        [
         "40",
         "excel spreadsheet chaos memes",
         "2.0",
         "test_images/meme_submissions_1367589.png"
        ],
        [
         "41",
         "capstone project memes",
         "2.0",
         "test_images/problems-stress-pain_78.png"
        ],
        [
         "42",
         "overfitting model memes",
         "1.0",
         "test_images/Community_Fire_Pizza_Meme_9.png"
        ],
        [
         "43",
         "deep learning black box memes",
         "1.0",
         "test_images/mind_blown_template_3.png"
        ],
        [
         "44",
         "train-validation split memes",
         "0.0",
         "test_images/meme_submissions_1409609.png"
        ],
        [
         "45",
         "data preprocessing memes",
         "1.0",
         "test_images/batman-and-superman_20.png"
        ],
        [
         "46",
         "natural language processing memes",
         "2.0",
         "test_images/meme_submissions_1406485.png"
        ],
        [
         "47",
         "presentation day memes",
         "2.0",
         "test_images/kevin-hart_66.png"
        ],
        [
         "48",
         "lab partner memes",
         "2.0",
         "test_images/meme_submissions_1440233.png"
        ],
        [
         "49",
         "internship onboarding memes",
         "2.0",
         "test_images/business-cat_85.png"
        ]
       ],
       "shape": {
        "columns": 3,
        "rows": 104
       }
      },
      "text/html": [
       "<div>\n",
       "<style scoped>\n",
       "    .dataframe tbody tr th:only-of-type {\n",
       "        vertical-align: middle;\n",
       "    }\n",
       "\n",
       "    .dataframe tbody tr th {\n",
       "        vertical-align: top;\n",
       "    }\n",
       "\n",
       "    .dataframe thead th {\n",
       "        text-align: right;\n",
       "    }\n",
       "</style>\n",
       "<table border=\"1\" class=\"dataframe\">\n",
       "  <thead>\n",
       "    <tr style=\"text-align: right;\">\n",
       "      <th></th>\n",
       "      <th>query</th>\n",
       "      <th>label</th>\n",
       "      <th>directory</th>\n",
       "    </tr>\n",
       "  </thead>\n",
       "  <tbody>\n",
       "    <tr>\n",
       "      <th>0</th>\n",
       "      <td>student life memes</td>\n",
       "      <td>2.0</td>\n",
       "      <td>test_images/meme_submissions_1490490.png</td>\n",
       "    </tr>\n",
       "    <tr>\n",
       "      <th>1</th>\n",
       "      <td>final exam memes</td>\n",
       "      <td>2.0</td>\n",
       "      <td>test_images/sad-baby_92.png</td>\n",
       "    </tr>\n",
       "    <tr>\n",
       "      <th>2</th>\n",
       "      <td>data science memes</td>\n",
       "      <td>2.0</td>\n",
       "      <td>test_images/John_Daly_and_Tiger_Woods_1.png</td>\n",
       "    </tr>\n",
       "    <tr>\n",
       "      <th>3</th>\n",
       "      <td>machine learning memes</td>\n",
       "      <td>1.0</td>\n",
       "      <td>test_images/batman-and-superman_20.png</td>\n",
       "    </tr>\n",
       "    <tr>\n",
       "      <th>4</th>\n",
       "      <td>math major memes</td>\n",
       "      <td>2.0</td>\n",
       "      <td>test_images/big-book-small-book_21.png</td>\n",
       "    </tr>\n",
       "    <tr>\n",
       "      <th>...</th>\n",
       "      <td>...</td>\n",
       "      <td>...</td>\n",
       "      <td>...</td>\n",
       "    </tr>\n",
       "    <tr>\n",
       "      <th>99</th>\n",
       "      <td>weekend lab session memes</td>\n",
       "      <td>0.0</td>\n",
       "      <td>test_images/meme_submissions_1440233.png</td>\n",
       "    </tr>\n",
       "    <tr>\n",
       "      <th>100</th>\n",
       "      <td>graduate defense memes</td>\n",
       "      <td>1.0</td>\n",
       "      <td>test_images/high-expectations-asian-father_62.png</td>\n",
       "    </tr>\n",
       "    <tr>\n",
       "      <th>101</th>\n",
       "      <td>confusing syllabus memes</td>\n",
       "      <td>2.0</td>\n",
       "      <td>test_images/john-daly-and-tiger-woods_58.png</td>\n",
       "    </tr>\n",
       "    <tr>\n",
       "      <th>102</th>\n",
       "      <td>email signature memes</td>\n",
       "      <td>1.0</td>\n",
       "      <td>test_images/meme_submissions_1295965.png</td>\n",
       "    </tr>\n",
       "    <tr>\n",
       "      <th>103</th>\n",
       "      <td>academic conference memes</td>\n",
       "      <td>1.0</td>\n",
       "      <td>test_images/meme_submissions_1268570.png</td>\n",
       "    </tr>\n",
       "  </tbody>\n",
       "</table>\n",
       "<p>104 rows × 3 columns</p>\n",
       "</div>"
      ],
      "text/plain": [
       "                         query  label  \\\n",
       "0           student life memes    2.0   \n",
       "1             final exam memes    2.0   \n",
       "2           data science memes    2.0   \n",
       "3       machine learning memes    1.0   \n",
       "4             math major memes    2.0   \n",
       "..                         ...    ...   \n",
       "99   weekend lab session memes    0.0   \n",
       "100     graduate defense memes    1.0   \n",
       "101   confusing syllabus memes    2.0   \n",
       "102      email signature memes    1.0   \n",
       "103  academic conference memes    1.0   \n",
       "\n",
       "                                             directory  \n",
       "0             test_images/meme_submissions_1490490.png  \n",
       "1                          test_images/sad-baby_92.png  \n",
       "2          test_images/John_Daly_and_Tiger_Woods_1.png  \n",
       "3               test_images/batman-and-superman_20.png  \n",
       "4               test_images/big-book-small-book_21.png  \n",
       "..                                                 ...  \n",
       "99            test_images/meme_submissions_1440233.png  \n",
       "100  test_images/high-expectations-asian-father_62.png  \n",
       "101       test_images/john-daly-and-tiger-woods_58.png  \n",
       "102           test_images/meme_submissions_1295965.png  \n",
       "103           test_images/meme_submissions_1268570.png  \n",
       "\n",
       "[104 rows x 3 columns]"
      ]
     },
     "execution_count": 1,
     "metadata": {},
     "output_type": "execute_result"
    }
   ],
   "source": [
    "import pandas as pd\n",
    "\n",
    "df_test_meme = pd.read_csv('test_meme.csv', names=['query', 'label','directory'])\n",
    "df_test_template = pd.read_csv('test_template.csv', names=['query', 'label','directory'])\n",
    "df_test_meme"
   ]
  },
  {
   "cell_type": "code",
   "execution_count": null,
   "id": "c95460c5",
   "metadata": {},
   "outputs": [],
   "source": [
    "import numpy as np\n",
    "import matplotlib.pyplot as plt\n",
    "\n",
    "# --- 1. IR Metrics ---\n",
    "\n",
    "def mean_reciprocal_rank(rs):\n",
    "    \"\"\"rs: list of lists of binary relevance (1 or 0) for each query\"\"\"\n",
    "    return np.mean([1/(np.where(r)[0][0]+1) if np.any(r) else 0 for r in rs])\n",
    "\n",
    "def precision_at_k(r, k):\n",
    "    \"\"\"r: binary relevance list, k: int\"\"\"\n",
    "    r = np.asarray(r)[:k]\n",
    "    return np.mean(r)\n",
    "\n",
    "def recall_at_k(r, k, total_relevant):\n",
    "    \"\"\"r: binary relevance list, k: int, total_relevant: int\"\"\"\n",
    "    r = np.asarray(r)[:k]\n",
    "    return np.sum(r) / total_relevant if total_relevant else 0\n",
    "\n",
    "def average_precision(r):\n",
    "    \"\"\"r: binary relevance list\"\"\"\n",
    "    r = np.asarray(r)\n",
    "    out = [precision_at_k(r, k+1) for k in range(len(r)) if r[k]]\n",
    "    return np.mean(out) if out else 0\n",
    "\n",
    "def mean_average_precision(rs):\n",
    "    \"\"\"rs: list of binary relevance lists\"\"\"\n",
    "    return np.mean([average_precision(r) for r in rs])"
   ]
  },
  {
   "cell_type": "code",
   "execution_count": null,
   "id": "afeaf1bc",
   "metadata": {},
   "outputs": [],
   "source": [
    "def evaluate_model(model, queries, relevance_judgments, k=5):\n",
    "    all_precisions, all_recalls, all_ap, all_rr = [], [], [], []\n",
    "    for q in queries:\n",
    "        # ranked_meme_ids = model.retrieve(q)  # Implement your retrieval\n",
    "        ranked_meme_ids = []  # Placeholder\n",
    "        rels = [relevance_judgments.get(q, {}).get(mid, 0) for mid in ranked_meme_ids]\n",
    "        binary_rels = [1 if r == 2 else 0 for r in rels]  # Only 'relevant' counts as 1\n",
    "        total_relevant = sum(1 for v in relevance_judgments.get(q, {}).values() if v == 2)\n",
    "        all_precisions.append(precision_at_k(binary_rels, k))\n",
    "        all_recalls.append(recall_at_k(binary_rels, k, total_relevant))\n",
    "        all_ap.append(average_precision(binary_rels))\n",
    "        all_rr.append(1/(np.where(np.array(binary_rels)==1)[0][0]+1) if 1 in binary_rels else 0)\n",
    "    return {\n",
    "        \"Precision@K\": np.mean(all_precisions),\n",
    "        \"Recall@K\": np.mean(all_recalls),\n",
    "        \"mAP\": np.mean(all_ap),\n",
    "        \"MRR\": np.mean(all_rr)\n",
    "    }"
   ]
  },
  {
   "cell_type": "code",
   "execution_count": null,
   "id": "8a4f8475",
   "metadata": {},
   "outputs": [],
   "source": [
    "def plot_precision_recall_curve(precisions, recalls):\n",
    "    plt.plot(recalls, precisions, marker='o')\n",
    "    plt.xlabel('Recall')\n",
    "    plt.ylabel('Precision')\n",
    "    plt.title('Precision-Recall Curve')\n",
    "    plt.show()"
   ]
  },
  {
   "cell_type": "code",
   "execution_count": null,
   "id": "f1c4f508",
   "metadata": {},
   "outputs": [],
   "source": []
  },
  {
   "cell_type": "code",
   "execution_count": null,
   "id": "770b3781",
   "metadata": {},
   "outputs": [],
   "source": []
  }
 ],
 "metadata": {
  "kernelspec": {
   "display_name": "base",
   "language": "python",
   "name": "python3"
  },
  "language_info": {
   "codemirror_mode": {
    "name": "ipython",
    "version": 3
   },
   "file_extension": ".py",
   "mimetype": "text/x-python",
   "name": "python",
   "nbconvert_exporter": "python",
   "pygments_lexer": "ipython3",
   "version": "3.12.2"
  }
 },
 "nbformat": 4,
 "nbformat_minor": 5
}
